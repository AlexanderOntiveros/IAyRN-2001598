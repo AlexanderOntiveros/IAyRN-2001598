{
  "nbformat": 4,
  "nbformat_minor": 0,
  "metadata": {
    "colab": {
      "provenance": [],
      "authorship_tag": "ABX9TyPHc+MnSJpg4AfDiyIOyI/q",
      "include_colab_link": true
    },
    "kernelspec": {
      "name": "python3",
      "display_name": "Python 3"
    },
    "language_info": {
      "name": "python"
    }
  },
  "cells": [
    {
      "cell_type": "markdown",
      "metadata": {
        "id": "view-in-github",
        "colab_type": "text"
      },
      "source": [
        "<a href=\"https://colab.research.google.com/github/AlexanderOntiveros/IAyRN-2001598/blob/main/AF5_Procesamiento_de_datos.ipynb\" target=\"_parent\"><img src=\"https://colab.research.google.com/assets/colab-badge.svg\" alt=\"Open In Colab\"/></a>"
      ]
    },
    {
      "cell_type": "code",
      "execution_count": 175,
      "metadata": {
        "colab": {
          "base_uri": "https://localhost:8080/",
          "height": 35
        },
        "id": "WkOUGtx4VoEk",
        "outputId": "583fbd33-58ed-4dd2-8fa3-4dcc08a0e77a"
      },
      "outputs": [
        {
          "output_type": "execute_result",
          "data": {
            "text/plain": [
              "'Hora: Martes(N4-N6)'"
            ],
            "application/vnd.google.colaboratory.intrinsic+json": {
              "type": "string"
            }
          },
          "metadata": {},
          "execution_count": 175
        }
      ],
      "source": [
        "\"Titulo: AF 5: Procesamiento de conjuntos de datos en Python\"\n",
        "\"Nombre: Rodrigo Alexander Ontiveros Mendez - Matricula: 2001598\"\n",
        "\"Andres Murguía Valencia - 2173973\"\n",
        "\"Luis Enrique Salazar Matrón - 2047932\"\n",
        "\"Hora: Martes(N4-N6)\""
      ]
    },
    {
      "cell_type": "code",
      "source": [
        "#Ejercicio 1.- Análisis y normalización de datos de sensores en un robot móvil\n",
        "# Cargar librerías Pandas, Numpy y Matplotlib\n",
        "import pandas as pd\n",
        "import matplotlib.pyplot as plt\n",
        "\n",
        "import numpy as np\n",
        "\n",
        "import numpy as np\n",
        "import matplotlib.pyplot as plt\n",
        "from sklearn.linear_model import LinearRegression"
      ],
      "metadata": {
        "id": "0Zm7PX2aW5Gx"
      },
      "execution_count": 167,
      "outputs": []
    },
    {
      "cell_type": "code",
      "source": [
        "# Fuente: https://github.com/dilp90/InteligenciaArtificial_y_RedesNeuronales_UANL_FIME/blob/main/MachineLearning/Datasets/robot_sensors.csv\n",
        "# Cargar datos desde un archivo CSV\n",
        "df = pd.read_csv('/content/robot_sensors.csv')"
      ],
      "metadata": {
        "id": "R66kBofwaYY-"
      },
      "execution_count": 168,
      "outputs": []
    },
    {
      "cell_type": "code",
      "source": [
        "# Mostrar las primeras 11 líneas de datos.\n",
        "print(df.head(25))\n",
        "print(df.shape)"
      ],
      "metadata": {
        "colab": {
          "base_uri": "https://localhost:8080/"
        },
        "id": "eoqL1CqNc1Dq",
        "outputId": "c446f460-571a-4a3c-8068-68154e4a3ebe"
      },
      "execution_count": 169,
      "outputs": [
        {
          "output_type": "stream",
          "name": "stdout",
          "text": [
            "    Tiempo (s)  Distancia (cm)  Velocidad (cm/s)  Temperatura (°C)\n",
            "0            0       43.708611          9.256646         23.925585\n",
            "1            1       95.564288         27.095047         23.704682\n",
            "2            2       75.879455         43.647292         33.593819\n",
            "3            3       63.879264         36.611244         23.743193\n",
            "4            4       24.041678         40.328057         24.079246\n",
            "5            5       24.039507         32.939168         31.390974\n",
            "6            6       15.227525         34.613828         26.746098\n",
            "7            7       87.955853         42.459783         31.650658\n",
            "8            8       64.100351         12.483400         20.980492\n",
            "9            9       73.726532         24.471248         27.313568\n",
            "10          10       11.852604         11.060472         20.504204\n",
            "11          11       97.291887         49.383400         20.939798\n",
            "12          12       84.919838         47.202967         33.596562\n",
            "13          13       29.110520          1.971341         22.088681\n",
            "14          14       26.364247         35.278759         27.986310\n",
            "15          15       26.506406         46.262416         26.166434\n",
            "16          16       37.381802          9.028767         25.210150\n",
            "17          17       57.228079         28.397262         33.497500\n",
            "18          18       48.875052         45.774415         20.327351\n",
            "19          19       36.210623          1.697299         29.956845\n",
            "20          20       65.066761         34.871013         34.450917\n",
            "21          21       22.554447         14.867450         28.402523\n",
            "22          22       36.293018         46.219810         34.052337\n",
            "23          23       42.972566               NaN         20.783868\n",
            "24          24       51.046299         47.213324         26.281900\n",
            "(1000, 4)\n"
          ]
        }
      ]
    },
    {
      "cell_type": "code",
      "source": [
        "# Verificar si hay valores nulos (missing values) en alguna columna\n",
        "print(df.isnull().sum())"
      ],
      "metadata": {
        "colab": {
          "base_uri": "https://localhost:8080/"
        },
        "id": "vS0ia9vZgsCn",
        "outputId": "381b6f7a-3131-4259-a3ec-89f7d6c1a9e7"
      },
      "execution_count": 165,
      "outputs": [
        {
          "output_type": "stream",
          "name": "stdout",
          "text": [
            "Tiempo (s)          0\n",
            "Distancia (cm)      0\n",
            "Velocidad (cm/s)    0\n",
            "Temperatura (°C)    0\n",
            "dtype: int64\n"
          ]
        }
      ]
    },
    {
      "cell_type": "code",
      "source": [
        " # Si encuentras valores nulos, eliminar las filas que contienen datos faltantes utilizando el comando Dropna().\n",
        "df.dropna(subset=['Distancia (cm)'], inplace=True)\n",
        "df.dropna(subset=['Velocidad (cm/s)'], inplace=True)\n",
        "df.dropna(subset=['Temperatura (°C)'], inplace=True)"
      ],
      "metadata": {
        "id": "3kasnbl0jDlW"
      },
      "execution_count": 170,
      "outputs": []
    },
    {
      "cell_type": "code",
      "source": [
        "# Verificar si hay valores negativos\n",
        "# Verificar si hay valores negativos restantes\n",
        "valores_negativos = (df[['Distancia (cm)', 'Velocidad (cm/s)', 'Temperatura (°C)']] < 0).sum()\n",
        "print(\"Número de valores negativos por unidad:\")\n",
        "print(valores_negativos)"
      ],
      "metadata": {
        "colab": {
          "base_uri": "https://localhost:8080/"
        },
        "id": "4lYF6uEjl6rd",
        "outputId": "f5a12b31-a475-476b-88b8-b3d5f4246590"
      },
      "execution_count": 171,
      "outputs": [
        {
          "output_type": "stream",
          "name": "stdout",
          "text": [
            "Número de valores negativos por unidad:\n",
            "Distancia (cm)      0\n",
            "Velocidad (cm/s)    0\n",
            "Temperatura (°C)    0\n",
            "dtype: int64\n"
          ]
        }
      ]
    },
    {
      "cell_type": "code",
      "source": [
        "# Filtra todos los valores atípicos (Velocidad Negativa-)\n",
        "df = df[df['Distancia (cm)'] >= 0]\n",
        "df = df[df['Velocidad (cm/s)'] >= 0]\n",
        "df = df[df['Temperatura (°C)'] >= 0]"
      ],
      "metadata": {
        "id": "0OiLKA59jVyN"
      },
      "execution_count": 172,
      "outputs": []
    },
    {
      "cell_type": "code",
      "metadata": {
        "colab": {
          "base_uri": "https://localhost:8080/"
        },
        "id": "9d990d8a",
        "outputId": "e8d521ea-b3ea-4141-b9e9-6d1c489b3ddf"
      },
      "source": [
        "# Normalizar los datos numéricos con Min-Max Scaling\n",
        "robot_sensors = ['Distancia (cm)', 'Velocidad (cm/s)', 'Temperatura (°C)']\n",
        "\n",
        "# Crear una copia1 para no modificar el original si es necesario\n",
        "df_normalized_np = df.copy()\n",
        "\n",
        "# Normalizar manualmente con NumPy\n",
        "for col in robot_sensors:\n",
        "    col_data = df_normalized_np[col].values\n",
        "    min_val = np.min(col_data)\n",
        "    max_val = np.max(col_data)\n",
        "    # Evitar división por cero si max_val == min_val\n",
        "    if max_val - min_val != 0:\n",
        "        df_normalized_np[col] = (col_data - min_val) / (max_val - min_val)\n",
        "    else:\n",
        "        # Si todos los valores son iguales, la normalización resulta en 0 (o se mantiene igual)\n",
        "        df_normalized_np[col] = 0\n",
        "\n",
        "# Mostrar las primeras filas del copia1 con los datos normalizados por NumPy\n",
        "print(\"DataFrame con datos normalizados (Min-Max Scaling con NumPy):\")\n",
        "print(df_normalized_np.head())"
      ],
      "execution_count": 173,
      "outputs": [
        {
          "output_type": "stream",
          "name": "stdout",
          "text": [
            "DataFrame con datos normalizados (Min-Max Scaling con NumPy):\n",
            "   Tiempo (s)  Distancia (cm)  Velocidad (cm/s)  Temperatura (°C)\n",
            "0           0        0.371735          0.182609          0.262269\n",
            "1           1        0.950755          0.540740          0.247509\n",
            "2           2        0.730954          0.873049          0.908233\n",
            "3           3        0.596960          0.731791          0.250082\n",
            "4           4        0.152134          0.806411          0.272535\n"
          ]
        }
      ]
    },
    {
      "cell_type": "code",
      "metadata": {
        "colab": {
          "base_uri": "https://localhost:8080/",
          "height": 736
        },
        "id": "326123b6",
        "outputId": "fb6f4a59-b3c7-4ce3-ce53-d9728ce363b3"
      },
      "source": [
        "# Seleccionar las columnas numéricas normalizadas con NumPy\n",
        "robot_sensors = ['Distancia (cm)', 'Velocidad (cm/s)', 'Temperatura (°C)']\n",
        "\n",
        "# Crear histogramas para cada columna normalizada\n",
        "df_normalized_np[robot_sensors].hist(bins=20, color='purple', figsize=(10, 7))\n",
        "plt.suptitle(\"Histogramas de Datos Normalizados (Min-Max Scaling con NumPy)\", y=1.02)\n",
        "plt.tight_layout()\n",
        "plt.show()"
      ],
      "execution_count": 174,
      "outputs": [
        {
          "output_type": "display_data",
          "data": {
            "text/plain": [
              "<Figure size 1000x700 with 4 Axes>"
            ],
            "image/png": "[encoded data removed]"
          },
          "metadata": {}
        }
      ]
    }
  ]
}